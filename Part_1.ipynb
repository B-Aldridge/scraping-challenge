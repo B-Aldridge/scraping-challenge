{
 "cells": [
  {
   "cell_type": "code",
   "execution_count": 1,
   "id": "81d483ff",
   "metadata": {},
   "outputs": [],
   "source": [
    "# Import Splinter and BeautifulSoup\n",
    "from splinter import Browser\n",
    "from bs4 import BeautifulSoup as soup"
   ]
  },
  {
   "cell_type": "code",
   "execution_count": 2,
   "id": "c2a0b07b",
   "metadata": {},
   "outputs": [],
   "source": [
    "browser = Browser('chrome')"
   ]
  },
  {
   "cell_type": "code",
   "execution_count": 3,
   "id": "7a5b7ab4",
   "metadata": {},
   "outputs": [],
   "source": [
    "# Visit the Mars news site\n",
    "url = 'https://static.bc-edx.com/data/web/mars_news/index.html'\n",
    "browser.visit(url)"
   ]
  },
  {
   "cell_type": "code",
   "execution_count": 4,
   "id": "5eaf6207",
   "metadata": {},
   "outputs": [],
   "source": [
    "# Create a Beautiful Soup object\n",
    "html = browser.html\n",
    "soup = soup(html, 'html.parser')\n"
   ]
  },
  {
   "cell_type": "code",
   "execution_count": 5,
   "id": "d11b2547",
   "metadata": {},
   "outputs": [
    {
     "data": {
      "text/plain": [
       "[<div class=\"content_title\">NASA's MAVEN Observes Martian Light Show Caused by Major Solar Storm</div>,\n",
       " <div class=\"content_title\">NASA Prepares to Say 'Farewell' to InSight Spacecraft</div>,\n",
       " <div class=\"content_title\">NASA and ESA Agree on Next Steps to Return Mars Samples to Earth</div>,\n",
       " <div class=\"content_title\">NASA's InSight Lander Detects Stunning Meteoroid Impact on Mars</div>,\n",
       " <div class=\"content_title\">NASA To Host Briefing on InSight, Mars Reconnaissance Orbiter Findings</div>,\n",
       " <div class=\"content_title\">Why NASA Is Trying To Crash Land on Mars</div>,\n",
       " <div class=\"content_title\">Curiosity Mars Rover Reaches Long-Awaited Salty Region</div>,\n",
       " <div class=\"content_title\">Mars Mission Shields Up for Tests</div>,\n",
       " <div class=\"content_title\">NASA's InSight Waits Out Dust Storm</div>,\n",
       " <div class=\"content_title\">NASA's InSight 'Hears' Its First Meteoroid Impacts on Mars</div>,\n",
       " <div class=\"content_title\">NASA's Perseverance Rover Investigates Geologically Rich Mars Terrain</div>,\n",
       " <div class=\"content_title\">NASA to Host Briefing on Perseverance Mars Rover Mission Operations</div>,\n",
       " <div class=\"content_title\">NASA's Perseverance Makes New Discoveries in Mars' Jezero Crater</div>,\n",
       " <div class=\"content_title\">10 Years Since Landing, NASA's Curiosity Mars Rover Still Has Drive</div>,\n",
       " <div class=\"content_title\">SAM's Top 5 Discoveries Aboard NASA's Curiosity Rover at Mars</div>]"
      ]
     },
     "execution_count": 5,
     "metadata": {},
     "output_type": "execute_result"
    }
   ],
   "source": [
    "# Extract all the text elements\n",
    "title_elements = soup.find_all(class_ = 'content_title')\n",
    "preview_elements = soup.find_all('div', class_='article_teaser_body')\n",
    "# preview results\n",
    "title_elements"
   ]
  },
  {
   "cell_type": "code",
   "execution_count": 6,
   "id": "bf44a75a",
   "metadata": {},
   "outputs": [
    {
     "data": {
      "text/plain": [
       "[<div class=\"article_teaser_body\">For the first time in its eight years orbiting Mars, NASA’s MAVEN mission witnessed two different types of ultraviolet aurorae simultaneously, the result of solar storms that began on Aug. 27.</div>,\n",
       " <div class=\"article_teaser_body\">A closer look at what goes into wrapping up the mission as the spacecraft’s power supply continues to dwindle.</div>,\n",
       " <div class=\"article_teaser_body\">The agency’s Perseverance rover will establish the first sample depot on Mars.</div>,\n",
       " <div class=\"article_teaser_body\">The agency’s lander felt the ground shake during the impact while cameras aboard the Mars Reconnaissance Orbiter spotted the yawning new crater from space.</div>,\n",
       " <div class=\"article_teaser_body\">Scientists from two Mars missions will discuss how they combined images and data for a major finding on the Red Planet.</div>,\n",
       " <div class=\"article_teaser_body\">Like a car’s crumple zone, the experimental SHIELD lander is designed to absorb a hard impact.</div>,\n",
       " <div class=\"article_teaser_body\">After years of climbing, the Mars rover has arrived at a special region believed to have formed as Mars’ climate was drying.</div>,\n",
       " <div class=\"article_teaser_body\">Protecting Mars Sample Return spacecraft from micrometeorites requires high-caliber work.</div>,\n",
       " <div class=\"article_teaser_body\">InSight’s team is taking steps to help the solar-powered lander continue operating for as long as possible.</div>,\n",
       " <div class=\"article_teaser_body\">The Mars lander’s seismometer has picked up vibrations from four separate impacts in the past two years.</div>,\n",
       " <div class=\"article_teaser_body\">The latest findings provide greater detail on a region of the Red Planet that has a watery past and is yielding promising samples for the NASA-ESA Mars Sample Return campaign.</div>,\n",
       " <div class=\"article_teaser_body\">Members of the mission will discuss the rover’s activities as it gathers samples in an ancient river delta.</div>,\n",
       " <div class=\"article_teaser_body\">The rover found that Jezero Crater’s floor is made up of volcanic rocks that have interacted with water.</div>,\n",
       " <div class=\"article_teaser_body\">Despite signs of wear, the intrepid spacecraft is about to start an exciting new chapter of its mission as it climbs a Martian mountain.</div>,\n",
       " <div class=\"article_teaser_body\">“Selfie” of the Curiosity rover with inset showing the SAM instrument prior to installation on the rover.</div>]"
      ]
     },
     "execution_count": 6,
     "metadata": {},
     "output_type": "execute_result"
    }
   ],
   "source": [
    "# preview results\n",
    "preview_elements"
   ]
  },
  {
   "cell_type": "code",
   "execution_count": 7,
   "id": "74dc547f",
   "metadata": {},
   "outputs": [],
   "source": [
    "# Create an empty list to store the dictionaries\n",
    "news_list = []"
   ]
  },
  {
   "cell_type": "code",
   "execution_count": 9,
   "id": "83b3899e",
   "metadata": {},
   "outputs": [],
   "source": [
    "# Loop through the text elements\n",
    "for i in range(len(title_elements)):\n",
    "    # Extract the title and preview text from the elements\n",
    "    title = title_elements[i].get_text(strip=True)\n",
    "    preview = preview_elements[i].get_text(strip=True)\n",
    "    \n",
    "    # Store each title and preview pair in a dictionary\n",
    "    news_dict = {'title': title, 'preview': preview}\n",
    "    \n",
    "    # Add the dictionary to the list\n",
    "    news_list.append(news_dict)"
   ]
  },
  {
   "cell_type": "code",
   "execution_count": 10,
   "id": "77271b55",
   "metadata": {},
   "outputs": [
    {
     "name": "stdout",
     "output_type": "stream",
     "text": [
      " {'title': \"NASA's MAVEN Observes Martian Light Show Caused by Major Solar Storm\",\n",
      "  'preview': \"For the first time in its eight years orbiting Mars, NASA’s MAVEN mission witnessed two different types of ultraviolet aurorae simultaneously, the result of solar storms that began on Aug. 27.\"},\n",
      " {'title': \"NASA Prepares to Say 'Farewell' to InSight Spacecraft\",\n",
      "  'preview': \"A closer look at what goes into wrapping up the mission as the spacecraft’s power supply continues to dwindle.\"},\n",
      " {'title': \"NASA and ESA Agree on Next Steps to Return Mars Samples to Earth\",\n",
      "  'preview': \"The agency’s Perseverance rover will establish the first sample depot on Mars.\"},\n",
      " {'title': \"NASA's InSight Lander Detects Stunning Meteoroid Impact on Mars\",\n",
      "  'preview': \"The agency’s lander felt the ground shake during the impact while cameras aboard the Mars Reconnaissance Orbiter spotted the yawning new crater from space.\"},\n",
      " {'title': \"NASA To Host Briefing on InSight, Mars Reconnaissance Orbiter Findings\",\n",
      "  'preview': \"Scientists from two Mars missions will discuss how they combined images and data for a major finding on the Red Planet.\"},\n",
      " {'title': \"Why NASA Is Trying To Crash Land on Mars\",\n",
      "  'preview': \"Like a car’s crumple zone, the experimental SHIELD lander is designed to absorb a hard impact.\"},\n",
      " {'title': \"Curiosity Mars Rover Reaches Long-Awaited Salty Region\",\n",
      "  'preview': \"After years of climbing, the Mars rover has arrived at a special region believed to have formed as Mars’ climate was drying.\"},\n",
      " {'title': \"Mars Mission Shields Up for Tests\",\n",
      "  'preview': \"Protecting Mars Sample Return spacecraft from micrometeorites requires high-caliber work.\"},\n",
      " {'title': \"NASA's InSight Waits Out Dust Storm\",\n",
      "  'preview': \"InSight’s team is taking steps to help the solar-powered lander continue operating for as long as possible.\"},\n",
      " {'title': \"NASA's InSight 'Hears' Its First Meteoroid Impacts on Mars\",\n",
      "  'preview': \"The Mars lander’s seismometer has picked up vibrations from four separate impacts in the past two years.\"},\n",
      " {'title': \"NASA's Perseverance Rover Investigates Geologically Rich Mars Terrain\",\n",
      "  'preview': \"The latest findings provide greater detail on a region of the Red Planet that has a watery past and is yielding promising samples for the NASA-ESA Mars Sample Return campaign.\"},\n",
      " {'title': \"NASA to Host Briefing on Perseverance Mars Rover Mission Operations\",\n",
      "  'preview': \"Members of the mission will discuss the rover’s activities as it gathers samples in an ancient river delta.\"},\n",
      " {'title': \"NASA's Perseverance Makes New Discoveries in Mars' Jezero Crater\",\n",
      "  'preview': \"The rover found that Jezero Crater’s floor is made up of volcanic rocks that have interacted with water.\"},\n",
      " {'title': \"10 Years Since Landing, NASA's Curiosity Mars Rover Still Has Drive\",\n",
      "  'preview': \"Despite signs of wear, the intrepid spacecraft is about to start an exciting new chapter of its mission as it climbs a Martian mountain.\"},\n",
      " {'title': \"SAM's Top 5 Discoveries Aboard NASA's Curiosity Rover at Mars\",\n",
      "  'preview': \"“Selfie” of the Curiosity rover with inset showing the SAM instrument prior to installation on the rover.\"},\n"
     ]
    }
   ],
   "source": [
    "# Print the list to confirm success\n",
    "for news in news_list:\n",
    "    print(\" {'title': \\\"\" + news['title'] + \"\\\",\")\n",
    "    print(\"  'preview': \\\"\" + news['preview'] + \"\\\"},\")"
   ]
  },
  {
   "cell_type": "code",
   "execution_count": 11,
   "id": "f0199099",
   "metadata": {},
   "outputs": [],
   "source": [
    "browser.quit()"
   ]
  },
  {
   "cell_type": "code",
   "execution_count": null,
   "id": "a74040fc",
   "metadata": {},
   "outputs": [],
   "source": []
  },
  {
   "cell_type": "code",
   "execution_count": null,
   "id": "3190da79",
   "metadata": {},
   "outputs": [],
   "source": []
  }
 ],
 "metadata": {
  "kernelspec": {
   "display_name": "Python 3 (ipykernel)",
   "language": "python",
   "name": "python3"
  },
  "language_info": {
   "codemirror_mode": {
    "name": "ipython",
    "version": 3
   },
   "file_extension": ".py",
   "mimetype": "text/x-python",
   "name": "python",
   "nbconvert_exporter": "python",
   "pygments_lexer": "ipython3",
   "version": "3.10.9"
  }
 },
 "nbformat": 4,
 "nbformat_minor": 5
}
